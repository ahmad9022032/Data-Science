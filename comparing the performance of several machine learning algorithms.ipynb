{
 "cells": [
  {
   "cell_type": "markdown",
   "metadata": {},
   "source": [
    "# Introduction\n",
    "I have deided to work with the Titanic dataset again. this kernel is focusing on comparing the performance of several machine learning algorithms. I use several clasification model to create a model predicting survival on the Titanic. I am hoping to learn a lot from this site, so feedback is very welcome! This kernel is always improving because of your feedback!!!\n",
    "\n",
    "There are following parts to train a model:\n",
    "\n",
    "1. Load the library and data\n",
    "2. Data cleaning\n",
    "3. Data spliting\n",
    "4. Training,testing, and Peformance comparison\n",
    "5. Tuning the algorithm"
   ]
  },
  {
   "cell_type": "markdown",
   "metadata": {},
   "source": [
    "# 1. Load the library and data\n",
    "\n",
    "In this section the library and the data used are loaded into the sytem\n",
    "\n",
    "## 1.1 Load the library"
   ]
  },
  {
   "cell_type": "code",
   "execution_count": 2,
   "metadata": {},
   "outputs": [],
   "source": [
    "#sklearn\n",
    "from sklearn.model_selection import train_test_split\n",
    "from sklearn.model_selection import cross_val_score\n",
    "from sklearn.metrics import mean_squared_error,confusion_matrix, precision_score, recall_score, auc,roc_curve\n",
    "from sklearn import ensemble, linear_model, neighbors, svm, tree, neural_network\n",
    "from sklearn.pipeline import make_pipeline\n",
    "from sklearn.linear_model import Ridge\n",
    "from sklearn.preprocessing import PolynomialFeatures\n",
    "from sklearn import svm,model_selection, tree, linear_model, neighbors, naive_bayes, ensemble, discriminant_analysis, gaussian_process\n",
    "\n",
    "#load package\n",
    "import pandas as pd\n",
    "import numpy as np\n",
    "import matplotlib.pyplot as plt\n",
    "#from math import sqrt\n",
    "import seaborn as sns\n",
    "\n",
    "import warnings\n",
    "warnings.filterwarnings('ignore')"
   ]
  },
  {
   "cell_type": "markdown",
   "metadata": {},
   "source": [
    "\n",
    "## 1.2 Load the Dataset"
   ]
  },
  {
   "cell_type": "code",
   "execution_count": 3,
   "metadata": {},
   "outputs": [],
   "source": [
    "import pandas as pd\n",
    "\n",
    "# Correct path as per your system\n",
    "file_path = r'Titanic-Dataset.csv'\n",
    "df = pd.read_csv(file_path)"
   ]
  },
  {
   "cell_type": "markdown",
   "metadata": {},
   "source": [
    "## Initial Data Exploration"
   ]
  },
  {
   "cell_type": "code",
   "execution_count": 4,
   "metadata": {},
   "outputs": [
    {
     "data": {
      "text/html": [
       "<div>\n",
       "<style scoped>\n",
       "    .dataframe tbody tr th:only-of-type {\n",
       "        vertical-align: middle;\n",
       "    }\n",
       "\n",
       "    .dataframe tbody tr th {\n",
       "        vertical-align: top;\n",
       "    }\n",
       "\n",
       "    .dataframe thead th {\n",
       "        text-align: right;\n",
       "    }\n",
       "</style>\n",
       "<table border=\"1\" class=\"dataframe\">\n",
       "  <thead>\n",
       "    <tr style=\"text-align: right;\">\n",
       "      <th></th>\n",
       "      <th>PassengerId</th>\n",
       "      <th>Survived</th>\n",
       "      <th>Pclass</th>\n",
       "      <th>Name</th>\n",
       "      <th>Sex</th>\n",
       "      <th>Age</th>\n",
       "      <th>SibSp</th>\n",
       "      <th>Parch</th>\n",
       "      <th>Ticket</th>\n",
       "      <th>Fare</th>\n",
       "      <th>Cabin</th>\n",
       "      <th>Embarked</th>\n",
       "    </tr>\n",
       "  </thead>\n",
       "  <tbody>\n",
       "    <tr>\n",
       "      <th>0</th>\n",
       "      <td>1</td>\n",
       "      <td>0</td>\n",
       "      <td>3</td>\n",
       "      <td>Braund, Mr. Owen Harris</td>\n",
       "      <td>male</td>\n",
       "      <td>22.0</td>\n",
       "      <td>1</td>\n",
       "      <td>0</td>\n",
       "      <td>A/5 21171</td>\n",
       "      <td>7.2500</td>\n",
       "      <td>NaN</td>\n",
       "      <td>S</td>\n",
       "    </tr>\n",
       "    <tr>\n",
       "      <th>1</th>\n",
       "      <td>2</td>\n",
       "      <td>1</td>\n",
       "      <td>1</td>\n",
       "      <td>Cumings, Mrs. John Bradley (Florence Briggs Th...</td>\n",
       "      <td>female</td>\n",
       "      <td>38.0</td>\n",
       "      <td>1</td>\n",
       "      <td>0</td>\n",
       "      <td>PC 17599</td>\n",
       "      <td>71.2833</td>\n",
       "      <td>C85</td>\n",
       "      <td>C</td>\n",
       "    </tr>\n",
       "    <tr>\n",
       "      <th>2</th>\n",
       "      <td>3</td>\n",
       "      <td>1</td>\n",
       "      <td>3</td>\n",
       "      <td>Heikkinen, Miss. Laina</td>\n",
       "      <td>female</td>\n",
       "      <td>26.0</td>\n",
       "      <td>0</td>\n",
       "      <td>0</td>\n",
       "      <td>STON/O2. 3101282</td>\n",
       "      <td>7.9250</td>\n",
       "      <td>NaN</td>\n",
       "      <td>S</td>\n",
       "    </tr>\n",
       "    <tr>\n",
       "      <th>3</th>\n",
       "      <td>4</td>\n",
       "      <td>1</td>\n",
       "      <td>1</td>\n",
       "      <td>Futrelle, Mrs. Jacques Heath (Lily May Peel)</td>\n",
       "      <td>female</td>\n",
       "      <td>35.0</td>\n",
       "      <td>1</td>\n",
       "      <td>0</td>\n",
       "      <td>113803</td>\n",
       "      <td>53.1000</td>\n",
       "      <td>C123</td>\n",
       "      <td>S</td>\n",
       "    </tr>\n",
       "    <tr>\n",
       "      <th>4</th>\n",
       "      <td>5</td>\n",
       "      <td>0</td>\n",
       "      <td>3</td>\n",
       "      <td>Allen, Mr. William Henry</td>\n",
       "      <td>male</td>\n",
       "      <td>35.0</td>\n",
       "      <td>0</td>\n",
       "      <td>0</td>\n",
       "      <td>373450</td>\n",
       "      <td>8.0500</td>\n",
       "      <td>NaN</td>\n",
       "      <td>S</td>\n",
       "    </tr>\n",
       "  </tbody>\n",
       "</table>\n",
       "</div>"
      ],
      "text/plain": [
       "   PassengerId  Survived  Pclass  \\\n",
       "0            1         0       3   \n",
       "1            2         1       1   \n",
       "2            3         1       3   \n",
       "3            4         1       1   \n",
       "4            5         0       3   \n",
       "\n",
       "                                                Name     Sex   Age  SibSp  \\\n",
       "0                            Braund, Mr. Owen Harris    male  22.0      1   \n",
       "1  Cumings, Mrs. John Bradley (Florence Briggs Th...  female  38.0      1   \n",
       "2                             Heikkinen, Miss. Laina  female  26.0      0   \n",
       "3       Futrelle, Mrs. Jacques Heath (Lily May Peel)  female  35.0      1   \n",
       "4                           Allen, Mr. William Henry    male  35.0      0   \n",
       "\n",
       "   Parch            Ticket     Fare Cabin Embarked  \n",
       "0      0         A/5 21171   7.2500   NaN        S  \n",
       "1      0          PC 17599  71.2833   C85        C  \n",
       "2      0  STON/O2. 3101282   7.9250   NaN        S  \n",
       "3      0            113803  53.1000  C123        S  \n",
       "4      0            373450   8.0500   NaN        S  "
      ]
     },
     "execution_count": 4,
     "metadata": {},
     "output_type": "execute_result"
    }
   ],
   "source": [
    "df.head()"
   ]
  },
  {
   "cell_type": "code",
   "execution_count": 5,
   "metadata": {},
   "outputs": [
    {
     "name": "stdout",
     "output_type": "stream",
     "text": [
      "PassengerId      0\n",
      "Survived         0\n",
      "Pclass           0\n",
      "Name             0\n",
      "Sex              0\n",
      "Age            177\n",
      "SibSp            0\n",
      "Parch            0\n",
      "Ticket           0\n",
      "Fare             0\n",
      "Cabin          687\n",
      "Embarked         2\n",
      "dtype: int64\n"
     ]
    }
   ],
   "source": [
    "print(df.isnull().sum())"
   ]
  },
  {
   "cell_type": "code",
   "execution_count": 6,
   "metadata": {},
   "outputs": [
    {
     "name": "stdout",
     "output_type": "stream",
     "text": [
      "       PassengerId    Survived      Pclass         Age       SibSp  \\\n",
      "count   891.000000  891.000000  891.000000  714.000000  891.000000   \n",
      "mean    446.000000    0.383838    2.308642   29.699118    0.523008   \n",
      "std     257.353842    0.486592    0.836071   14.526497    1.102743   \n",
      "min       1.000000    0.000000    1.000000    0.420000    0.000000   \n",
      "25%     223.500000    0.000000    2.000000   20.125000    0.000000   \n",
      "50%     446.000000    0.000000    3.000000   28.000000    0.000000   \n",
      "75%     668.500000    1.000000    3.000000   38.000000    1.000000   \n",
      "max     891.000000    1.000000    3.000000   80.000000    8.000000   \n",
      "\n",
      "            Parch        Fare  \n",
      "count  891.000000  891.000000  \n",
      "mean     0.381594   32.204208  \n",
      "std      0.806057   49.693429  \n",
      "min      0.000000    0.000000  \n",
      "25%      0.000000    7.910400  \n",
      "50%      0.000000   14.454200  \n",
      "75%      0.000000   31.000000  \n",
      "max      6.000000  512.329200  \n"
     ]
    }
   ],
   "source": [
    "print(df.describe())"
   ]
  },
  {
   "cell_type": "markdown",
   "metadata": {},
   "source": [
    "## Preprocessing the Data\n",
    "Preprocessing may include handling missing values, encoding categorical variables, feature scaling, etc.\n",
    "\n",
    "Handling Missing Values\n",
    "For columns like Age, you could fill missing values with the median or mean age.\n",
    "For the Embarked column (if missing any), you could replace missing values with the mode.\n",
    "The Cabin column often has a high percentage of missing values; you might decide to drop it or encode it differently.\n",
    "Encoding Categorical Variables\n",
    "Convert categorical variables like"
   ]
  },
  {
   "cell_type": "code",
   "execution_count": 7,
   "metadata": {},
   "outputs": [],
   "source": [
    "df['Sex'] = df['Sex'].map({'male': 0, 'female': 1}).astype(int)\n",
    "\n",
    "# For Embarked, using one-hot encoding\n",
    "df = pd.get_dummies(df, columns=['Embarked'], drop_first=True)\n"
   ]
  },
  {
   "cell_type": "code",
   "execution_count": 8,
   "metadata": {},
   "outputs": [
    {
     "name": "stdout",
     "output_type": "stream",
     "text": [
      "PassengerId      0\n",
      "Survived         0\n",
      "Pclass           0\n",
      "Name             0\n",
      "Sex              0\n",
      "Age              0\n",
      "SibSp            0\n",
      "Parch            0\n",
      "Ticket           0\n",
      "Fare             0\n",
      "Cabin          687\n",
      "Embarked_Q       0\n",
      "Embarked_S       0\n",
      "dtype: int64\n"
     ]
    }
   ],
   "source": [
    "#seperating numerical and categorical columns due to the normal fillna command being unable to fill in\n",
    "#mean value into categorical spaces\n",
    "numerical_cols = df.select_dtypes(include=['float64']).columns\n",
    "\n",
    "\n",
    "df[numerical_cols] = df[numerical_cols].fillna(df[numerical_cols].mean())\n",
    "\n",
    "\n",
    "print(df.isnull().sum())"
   ]
  },
  {
   "cell_type": "markdown",
   "metadata": {},
   "source": [
    "## Dropping Unnecessary Columns\n",
    "Columns like Name, Ticket, and maybe Cabin (unless you've found a creative way to use it) could be dropped because they are unique identifiers or have too many missing values."
   ]
  },
  {
   "cell_type": "code",
   "execution_count": 9,
   "metadata": {},
   "outputs": [],
   "source": [
    "df = df.drop(['Name', 'Ticket', 'Cabin'], axis=1)"
   ]
  },
  {
   "cell_type": "code",
   "execution_count": 10,
   "metadata": {},
   "outputs": [
    {
     "data": {
      "text/html": [
       "<div>\n",
       "<style scoped>\n",
       "    .dataframe tbody tr th:only-of-type {\n",
       "        vertical-align: middle;\n",
       "    }\n",
       "\n",
       "    .dataframe tbody tr th {\n",
       "        vertical-align: top;\n",
       "    }\n",
       "\n",
       "    .dataframe thead th {\n",
       "        text-align: right;\n",
       "    }\n",
       "</style>\n",
       "<table border=\"1\" class=\"dataframe\">\n",
       "  <thead>\n",
       "    <tr style=\"text-align: right;\">\n",
       "      <th></th>\n",
       "      <th>PassengerId</th>\n",
       "      <th>Survived</th>\n",
       "      <th>Pclass</th>\n",
       "      <th>Sex</th>\n",
       "      <th>Age</th>\n",
       "      <th>SibSp</th>\n",
       "      <th>Parch</th>\n",
       "      <th>Fare</th>\n",
       "      <th>Embarked_Q</th>\n",
       "      <th>Embarked_S</th>\n",
       "    </tr>\n",
       "  </thead>\n",
       "  <tbody>\n",
       "    <tr>\n",
       "      <th>0</th>\n",
       "      <td>1</td>\n",
       "      <td>0</td>\n",
       "      <td>3</td>\n",
       "      <td>0</td>\n",
       "      <td>22.0</td>\n",
       "      <td>1</td>\n",
       "      <td>0</td>\n",
       "      <td>7.2500</td>\n",
       "      <td>False</td>\n",
       "      <td>True</td>\n",
       "    </tr>\n",
       "    <tr>\n",
       "      <th>1</th>\n",
       "      <td>2</td>\n",
       "      <td>1</td>\n",
       "      <td>1</td>\n",
       "      <td>1</td>\n",
       "      <td>38.0</td>\n",
       "      <td>1</td>\n",
       "      <td>0</td>\n",
       "      <td>71.2833</td>\n",
       "      <td>False</td>\n",
       "      <td>False</td>\n",
       "    </tr>\n",
       "    <tr>\n",
       "      <th>2</th>\n",
       "      <td>3</td>\n",
       "      <td>1</td>\n",
       "      <td>3</td>\n",
       "      <td>1</td>\n",
       "      <td>26.0</td>\n",
       "      <td>0</td>\n",
       "      <td>0</td>\n",
       "      <td>7.9250</td>\n",
       "      <td>False</td>\n",
       "      <td>True</td>\n",
       "    </tr>\n",
       "    <tr>\n",
       "      <th>3</th>\n",
       "      <td>4</td>\n",
       "      <td>1</td>\n",
       "      <td>1</td>\n",
       "      <td>1</td>\n",
       "      <td>35.0</td>\n",
       "      <td>1</td>\n",
       "      <td>0</td>\n",
       "      <td>53.1000</td>\n",
       "      <td>False</td>\n",
       "      <td>True</td>\n",
       "    </tr>\n",
       "    <tr>\n",
       "      <th>4</th>\n",
       "      <td>5</td>\n",
       "      <td>0</td>\n",
       "      <td>3</td>\n",
       "      <td>0</td>\n",
       "      <td>35.0</td>\n",
       "      <td>0</td>\n",
       "      <td>0</td>\n",
       "      <td>8.0500</td>\n",
       "      <td>False</td>\n",
       "      <td>True</td>\n",
       "    </tr>\n",
       "  </tbody>\n",
       "</table>\n",
       "</div>"
      ],
      "text/plain": [
       "   PassengerId  Survived  Pclass  Sex   Age  SibSp  Parch     Fare  \\\n",
       "0            1         0       3    0  22.0      1      0   7.2500   \n",
       "1            2         1       1    1  38.0      1      0  71.2833   \n",
       "2            3         1       3    1  26.0      0      0   7.9250   \n",
       "3            4         1       1    1  35.0      1      0  53.1000   \n",
       "4            5         0       3    0  35.0      0      0   8.0500   \n",
       "\n",
       "   Embarked_Q  Embarked_S  \n",
       "0       False        True  \n",
       "1       False       False  \n",
       "2       False        True  \n",
       "3       False        True  \n",
       "4       False        True  "
      ]
     },
     "execution_count": 10,
     "metadata": {},
     "output_type": "execute_result"
    }
   ],
   "source": [
    "df.head()"
   ]
  },
  {
   "cell_type": "code",
   "execution_count": 11,
   "metadata": {},
   "outputs": [
    {
     "name": "stdout",
     "output_type": "stream",
     "text": [
      "PassengerId    False\n",
      "Survived       False\n",
      "Pclass         False\n",
      "Sex            False\n",
      "Age            False\n",
      "SibSp          False\n",
      "Parch          False\n",
      "Fare           False\n",
      "Embarked_Q     False\n",
      "Embarked_S     False\n",
      "dtype: bool\n"
     ]
    }
   ],
   "source": [
    "print(df.isnull().any())"
   ]
  },
  {
   "cell_type": "code",
   "execution_count": 12,
   "metadata": {},
   "outputs": [],
   "source": [
    "df = df.dropna()  # To drop rows with any NaN value"
   ]
  },
  {
   "cell_type": "markdown",
   "metadata": {},
   "source": [
    "## Splitting the Data\n",
    "Split your data into features (X) and the target variable (y), and then into training and testing sets."
   ]
  },
  {
   "cell_type": "code",
   "execution_count": 13,
   "metadata": {},
   "outputs": [],
   "source": [
    "# Assuming 'Survived' is the target variable\n",
    "X = df.drop('Survived', axis=1)\n",
    "y = df['Survived']\n",
    "\n",
    "X_train, X_test, y_train, y_test = train_test_split(X, y, test_size=0.2, random_state=42)"
   ]
  },
  {
   "cell_type": "markdown",
   "metadata": {},
   "source": [
    "## Feature Scaling\n",
    "Apply feature scaling to ensure that no variable dominates others due to its scale."
   ]
  },
  {
   "cell_type": "code",
   "execution_count": 14,
   "metadata": {},
   "outputs": [],
   "source": [
    "from sklearn.preprocessing import StandardScaler\n",
    "\n",
    "scaler = StandardScaler()\n",
    "X_train = scaler.fit_transform(X_train)\n",
    "X_test = scaler.transform(X_test)"
   ]
  },
  {
   "cell_type": "markdown",
   "metadata": {},
   "source": [
    "### LogisticRegression"
   ]
  },
  {
   "cell_type": "code",
   "execution_count": 15,
   "metadata": {},
   "outputs": [
    {
     "name": "stdout",
     "output_type": "stream",
     "text": [
      "Logistic Regression Accuracy: 0.8044692737430168\n",
      "Logistic Regression Precision: 0.7746478873239436\n",
      "Logistic Regression Recall: 0.7432432432432432\n",
      "Logistic Regression F1: 0.7586206896551724\n"
     ]
    }
   ],
   "source": [
    "from sklearn.linear_model import LogisticRegression\n",
    "from sklearn.svm import SVC\n",
    "from sklearn.ensemble import RandomForestClassifier\n",
    "from sklearn.neighbors import KNeighborsClassifier\n",
    "from sklearn.metrics import accuracy_score\n",
    "from sklearn.metrics import precision_score\n",
    "from sklearn.metrics import recall_score\n",
    "from sklearn.metrics import f1_score\n",
    "\n",
    "# Logistic Regression\n",
    "log_reg = LogisticRegression()\n",
    "log_reg.fit(X_train, y_train)\n",
    "log_reg_pred = log_reg.predict(X_test)\n",
    "\n",
    "logreg_accuracy = accuracy_score(y_test, log_reg_pred)\n",
    "logreg_prec = precision_score(y_test, log_reg_pred)\n",
    "logreg_recall = recall_score(y_test, log_reg_pred)\n",
    "logreg_f1 = f1_score(y_test, log_reg_pred)\n",
    "\n",
    "print('Logistic Regression Accuracy:', logreg_accuracy)\n",
    "print('Logistic Regression Precision:', logreg_prec)\n",
    "print('Logistic Regression Recall:', logreg_recall)\n",
    "print('Logistic Regression F1:', logreg_f1)"
   ]
  },
  {
   "cell_type": "markdown",
   "metadata": {},
   "source": [
    "### SVM"
   ]
  },
  {
   "cell_type": "code",
   "execution_count": 16,
   "metadata": {},
   "outputs": [
    {
     "name": "stdout",
     "output_type": "stream",
     "text": [
      "SVM Accuracy: 0.8100558659217877\n",
      "SVM Precision: 0.8125\n",
      "SVM Recall: 0.7027027027027027\n",
      "SVM F1: 0.7536231884057971\n"
     ]
    }
   ],
   "source": [
    "# Support Vector Machine (SVM)\n",
    "svc = SVC()\n",
    "svc.fit(X_train, y_train)\n",
    "svc_pred = svc.predict(X_test)\n",
    "\n",
    "svm_accuracy = accuracy_score(y_test, svc_pred)\n",
    "svm_prec = precision_score(y_test, svc_pred)\n",
    "svm_recall = recall_score(y_test, svc_pred)\n",
    "svm_f1 = f1_score(y_test, svc_pred)\n",
    "\n",
    "print('SVM Accuracy:', svm_accuracy)\n",
    "print('SVM Precision:', svm_prec)\n",
    "print('SVM Recall:', svm_recall)\n",
    "print('SVM F1:', svm_f1)"
   ]
  },
  {
   "cell_type": "markdown",
   "metadata": {},
   "source": [
    "### Random Forest Classifier"
   ]
  },
  {
   "cell_type": "code",
   "execution_count": 17,
   "metadata": {},
   "outputs": [
    {
     "name": "stdout",
     "output_type": "stream",
     "text": [
      "Random Forest Accuracy: 0.8212290502793296\n",
      "Random Forest Precision: 0.8181818181818182\n",
      "Random Forest Recall: 0.7297297297297297\n",
      "Random Forest F1: 0.7714285714285715\n"
     ]
    }
   ],
   "source": [
    "# Random Forest Classifier\n",
    "random_forest = RandomForestClassifier()\n",
    "random_forest.fit(X_train, y_train)\n",
    "rf_pred = random_forest.predict(X_test)\n",
    "\n",
    "random_forest_accuracy = accuracy_score(y_test, rf_pred)\n",
    "random_forest_prec = precision_score(y_test, rf_pred)\n",
    "random_forest_recall = recall_score(y_test, rf_pred)\n",
    "random_forest_f1 = f1_score(y_test, rf_pred)\n",
    "\n",
    "print('Random Forest Accuracy:', random_forest_accuracy)\n",
    "print('Random Forest Precision:', random_forest_prec)\n",
    "print('Random Forest Recall:', random_forest_recall)\n",
    "print('Random Forest F1:', random_forest_f1)"
   ]
  },
  {
   "cell_type": "markdown",
   "metadata": {},
   "source": [
    "### k-Nearest Neighbors (KNN)"
   ]
  },
  {
   "cell_type": "code",
   "execution_count": 18,
   "metadata": {},
   "outputs": [
    {
     "name": "stdout",
     "output_type": "stream",
     "text": [
      "KNN Accuracy: 0.7988826815642458\n",
      "KNN Precision: 0.7878787878787878\n",
      "KNN Recall: 0.7027027027027027\n",
      "KNN F1: 0.7428571428571429\n"
     ]
    }
   ],
   "source": [
    "#k-Nearest Neighbors (KNN)\n",
    "knn_classifier = KNeighborsClassifier()\n",
    "knn_classifier.fit(X_train, y_train)\n",
    "knn_pred = knn_classifier.predict(X_test)\n",
    "\n",
    "knn_accuracy = accuracy_score(y_test, knn_pred)\n",
    "knn_prec = precision_score(y_test, knn_pred)\n",
    "knn_recall = recall_score(y_test, knn_pred)\n",
    "knn_f1 = f1_score(y_test, knn_pred)\n",
    "\n",
    "print('KNN Accuracy:', knn_accuracy)\n",
    "print('KNN Precision:', knn_prec)\n",
    "print('KNN Recall:', knn_recall)\n",
    "print('KNN F1:', knn_f1)"
   ]
  },
  {
   "cell_type": "markdown",
   "metadata": {},
   "source": [
    "### Decision Tree"
   ]
  },
  {
   "cell_type": "code",
   "execution_count": 19,
   "metadata": {},
   "outputs": [
    {
     "name": "stdout",
     "output_type": "stream",
     "text": [
      "Decision Tree Accuracy: 0.7318435754189944\n",
      "Decision Tree Precision: 0.6756756756756757\n",
      "Decision Tree Recall: 0.6756756756756757\n",
      "Decision Tree F1: 0.6756756756756757\n"
     ]
    }
   ],
   "source": [
    "#Decision Tree\n",
    "from sklearn.tree import DecisionTreeClassifier\n",
    "\n",
    "decision_tree = DecisionTreeClassifier(random_state=42)\n",
    "decision_tree.fit(X_train, y_train)\n",
    "dt_pred = decision_tree.predict(X_test)\n",
    "\n",
    "decision_tree_accuracy = accuracy_score(y_test, dt_pred)\n",
    "decision_tree_prec = precision_score(y_test, dt_pred)\n",
    "decision_tree_recall = recall_score(y_test, dt_pred)\n",
    "decision_tree_f1 = f1_score(y_test, dt_pred)\n",
    "\n",
    "print('Decision Tree Accuracy:', decision_tree_accuracy)\n",
    "print('Decision Tree Precision:', decision_tree_prec)\n",
    "print('Decision Tree Recall:', decision_tree_recall)\n",
    "print('Decision Tree F1:', decision_tree_f1)"
   ]
  },
  {
   "cell_type": "markdown",
   "metadata": {},
   "source": [
    "### Gradient Boosting Machines (GBM)"
   ]
  },
  {
   "cell_type": "code",
   "execution_count": 20,
   "metadata": {},
   "outputs": [
    {
     "name": "stdout",
     "output_type": "stream",
     "text": [
      "Gradient Boosting Accuracy: 0.8156424581005587\n",
      "Gradient Boosting Precision: 0.8059701492537313\n",
      "Gradient Boosting Recall: 0.7297297297297297\n",
      "Gradient Boosting F1: 0.7659574468085106\n"
     ]
    }
   ],
   "source": [
    "#Gradient Boosting Machines (GBM)\n",
    "from sklearn.ensemble import GradientBoostingClassifier\n",
    "\n",
    "gbm_classifier = GradientBoostingClassifier(random_state=42)\n",
    "gbm_classifier.fit(X_train, y_train)\n",
    "gbm_pred = gbm_classifier.predict(X_test)\n",
    "\n",
    "gbm_accuracy = accuracy_score(y_test, gbm_pred)\n",
    "gbm_prec = precision_score(y_test, gbm_pred)\n",
    "gbm_recall = recall_score(y_test, gbm_pred)\n",
    "gbm_f1 = f1_score(y_test, gbm_pred)\n",
    "\n",
    "print('Gradient Boosting Accuracy:', gbm_accuracy)\n",
    "print('Gradient Boosting Precision:', gbm_prec)\n",
    "print('Gradient Boosting Recall:', gbm_recall)\n",
    "print('Gradient Boosting F1:', gbm_f1)"
   ]
  },
  {
   "cell_type": "markdown",
   "metadata": {},
   "source": [
    "### AdaBoost"
   ]
  },
  {
   "cell_type": "code",
   "execution_count": 21,
   "metadata": {},
   "outputs": [
    {
     "name": "stdout",
     "output_type": "stream",
     "text": [
      "AdaBoost Accuracy: 0.7486033519553073\n",
      "AdaBoost Precision: 0.6986301369863014\n",
      "AdaBoost Recall: 0.6891891891891891\n",
      "AdaBoost F1: 0.6938775510204082\n"
     ]
    }
   ],
   "source": [
    "#AdaBoost\n",
    "from sklearn.ensemble import AdaBoostClassifier\n",
    "\n",
    "# Create a base model (e.g., Decision Tree classifier)\n",
    "base_model = DecisionTreeClassifier()\n",
    "\n",
    "adaboost_classifier = AdaBoostClassifier(base_model, random_state=42)\n",
    "adaboost_classifier.fit(X_train, y_train)\n",
    "adaboost_pred = adaboost_classifier.predict(X_test)\n",
    "\n",
    "adaboost_accuracy = accuracy_score(y_test, adaboost_pred)\n",
    "adaboost_prec = precision_score(y_test, adaboost_pred)\n",
    "adaboost_recall = recall_score(y_test, adaboost_pred)\n",
    "adaboost_f1 = f1_score(y_test, adaboost_pred)\n",
    "\n",
    "print('AdaBoost Accuracy:', adaboost_accuracy)\n",
    "print('AdaBoost Precision:', adaboost_prec)\n",
    "print('AdaBoost Recall:', adaboost_recall)\n",
    "print('AdaBoost F1:', adaboost_f1)"
   ]
  },
  {
   "cell_type": "markdown",
   "metadata": {},
   "source": [
    "### Naive Bayes"
   ]
  },
  {
   "cell_type": "code",
   "execution_count": 22,
   "metadata": {},
   "outputs": [
    {
     "name": "stdout",
     "output_type": "stream",
     "text": [
      "Naive Bayes Accuracy: 0.770949720670391\n",
      "Naive Bayes Precision: 0.72\n",
      "Naive Bayes Recall: 0.7297297297297297\n",
      "Naive Bayes F1: 0.7248322147651006\n"
     ]
    }
   ],
   "source": [
    "#Naive Bayes\n",
    "from sklearn.naive_bayes import GaussianNB\n",
    "\n",
    "naive_bayes_classifier = GaussianNB()\n",
    "naive_bayes_classifier.fit(X_train, y_train)\n",
    "naive_bayes_pred = naive_bayes_classifier.predict(X_test)\n",
    "\n",
    "naive_bayes_accuracy = accuracy_score(y_test, naive_bayes_pred)\n",
    "naive_bayes_prec = precision_score(y_test, naive_bayes_pred)\n",
    "naive_bayes_recall = recall_score(y_test, naive_bayes_pred)\n",
    "naive_bayes_f1 = f1_score(y_test, naive_bayes_pred)\n",
    "\n",
    "print('Naive Bayes Accuracy:', naive_bayes_accuracy)\n",
    "print('Naive Bayes Precision:', naive_bayes_prec)\n",
    "print('Naive Bayes Recall:', naive_bayes_recall)\n",
    "print('Naive Bayes F1:', naive_bayes_f1)"
   ]
  },
  {
   "cell_type": "markdown",
   "metadata": {},
   "source": [
    "## Plotting to compare the accuracy scores of different models"
   ]
  },
  {
   "cell_type": "code",
   "execution_count": 23,
   "metadata": {},
   "outputs": [],
   "source": [
    "\n",
    "model_names = ['Logistic Regression', 'SVM', 'Random Forest', 'KNN', 'Decision Tree', 'Gradient Boosting', 'AdaBoost', 'Naive Bayes']\n",
    "\n",
    "accuracies = [logreg_accuracy, svm_accuracy, random_forest_accuracy, knn_accuracy, decision_tree_accuracy, gbm_accuracy, adaboost_accuracy, naive_bayes_accuracy]\n",
    "precisions = [logreg_prec, svm_prec, random_forest_prec, knn_prec, decision_tree_prec, gbm_prec, adaboost_prec, naive_bayes_prec]\n",
    "recalls = [logreg_recall, svm_recall, random_forest_recall, knn_recall, decision_tree_recall, gbm_recall, adaboost_recall, naive_bayes_recall]\n",
    "f1_scores = [logreg_f1, svm_f1, random_forest_f1, knn_f1, decision_tree_f1, gbm_f1, adaboost_f1, naive_bayes_f1]\n"
   ]
  },
  {
   "cell_type": "code",
   "execution_count": 24,
   "metadata": {},
   "outputs": [
    {
     "data": {
      "image/png": "[encoded data removed]",
      "text/plain": [
       "<Figure size 1500x1000 with 4 Axes>"
      ]
     },
     "metadata": {},
     "output_type": "display_data"
    }
   ],
   "source": [
    "plt.figure(figsize=(15, 10))\n",
    "\n",
    "plt.subplot(2, 2, 1)\n",
    "plt.bar(model_names, accuracies, color='black')\n",
    "plt.title('Accuracy of Different Models')\n",
    "plt.xlabel('Model')\n",
    "plt.ylabel('Accuracy')\n",
    "plt.xticks(rotation=45)\n",
    "\n",
    "plt.subplot(2, 2, 2)\n",
    "plt.bar(model_names, precisions, color='darkgreen')\n",
    "plt.title('Precision of Different Models')\n",
    "plt.xlabel('Model')\n",
    "plt.ylabel('Precision')\n",
    "plt.xticks(rotation=45)\n",
    "\n",
    "plt.subplot(2, 2, 3)\n",
    "plt.bar(model_names, recalls, color='red')\n",
    "plt.title('Recall of Different Models')\n",
    "plt.xlabel('Model')\n",
    "plt.ylabel('Recall')\n",
    "plt.xticks(rotation=45)\n",
    "\n",
    "plt.subplot(2, 2, 4)\n",
    "plt.bar(model_names, f1_scores, color='orange')\n",
    "plt.title('F1-score of Different Models')\n",
    "plt.xlabel('Model')\n",
    "plt.ylabel('F1-score')\n",
    "plt.xticks(rotation=45)\n",
    "\n",
    "plt.tight_layout()\n",
    "plt.show()"
   ]
  },
  {
   "cell_type": "markdown",
   "metadata": {},
   "source": [
    "# Model Performance Analysis\n",
    "\n",
    "## Logistic Regression:\n",
    "\n",
    "- **Accuracy:** 80.4%\n",
    "- **Precision:** 77.5%\n",
    "- **Recall:** 74.3%\n",
    "- **F1-score:** 75.9%\n",
    "\n",
    "**Analysis:**\n",
    "Logistic Regression performs reasonably well, providing a good balance between precision and recall. It is a simple model suitable for binary classification tasks.\n",
    "\n",
    "## Support Vector Machine (SVM):\n",
    "\n",
    "- **Accuracy:** 81.0%\n",
    "- **Precision:** 81.2%\n",
    "- **Recall:** 70.3%\n",
    "- **F1-score:** 75.4%\n",
    "\n",
    "**Analysis:**\n",
    "SVM demonstrates solid accuracy and precision, but its recall is slightly lower. SVM can handle complex relationships between features, and in this case, it might have captured some non-linear patterns.\n",
    "\n",
    "## Random Forest:\n",
    "\n",
    "- **Accuracy:** 82.7%\n",
    "- **Precision:** 84.1%\n",
    "- **Recall:** 71.6%\n",
    "- **F1-score:** 77.4%\n",
    "\n",
    "**Analysis:**\n",
    "Random Forest outperforms other models in terms of accuracy and precision. It's an ensemble model that combines multiple decision trees, providing robust performance.\n",
    "\n",
    "## K-Nearest Neighbors (KNN):\n",
    "\n",
    "- **Accuracy:** 79.9%\n",
    "- **Precision:** 78.8%\n",
    "- **Recall:** 70.3%\n",
    "- **F1-score:** 74.3%\n",
    "\n",
    "**Analysis:**\n",
    "KNN performs well but not as high as Random Forest. It considers the 'k' nearest neighbors for classification, making it sensitive to local patterns.\n",
    "\n",
    "## Decision Tree:\n",
    "\n",
    "- **Accuracy:** 73.2%\n",
    "- **Precision:** 67.6%\n",
    "- **Recall:** 67.6%\n",
    "- **F1-score:** 67.6%\n",
    "\n",
    "**Analysis:**\n",
    "Decision Tree shows lower accuracy compared to other models, indicating that it might be prone to overfitting. Decision Trees are sensitive to noisy data and outliers.\n",
    "\n",
    "## Gradient Boosting:\n",
    "\n",
    "- **Accuracy:** 81.6%\n",
    "- **Precision:** 80.6%\n",
    "- **Recall:** 72.9%\n",
    "- **F1-score:** 76.6%\n",
    "\n",
    "**Analysis:**\n",
    "Gradient Boosting combines weak learners to create a strong model, performing well with good accuracy and precision.\n",
    "\n",
    "## AdaBoost:\n",
    "\n",
    "- **Accuracy:** 74.9%\n",
    "- **Precision:** 69.9%\n",
    "- **Recall:** 68.9%\n",
    "- **F1-score:** 69.4%\n",
    "\n",
    "**Analysis:**\n",
    "AdaBoost, using Decision Trees as base models, has lower accuracy compared to Random Forest, but it still provides a reasonable balance between precision and recall.\n",
    "\n",
    "## Naive Bayes:\n",
    "\n",
    "- **Accuracy:** 77.1%\n",
    "- **Precision:** 72.0%\n",
    "- **Recall:** 72.9%\n",
    "- **F1-score:** 72.5%\n",
    "\n",
    "**Analysis:**\n",
    "Naive Bayes assumes independence between features, and it performs reasonably well, particularly in recall.\n",
    "\n",
    "## General Analysis:\n",
    "\n",
    "- The nature of the dataset, including missing values and categorical features, influences model performance.\n",
    "- Random Forest emerges as the top-performing model, likely due to its ability to handle complex relationships and capture patterns in the data.\n",
    "- Model complexity and the interplay of features play a crucial role. Ensemble methods like Random Forest and Gradient Boosting tend to perform well in diverse scenarios.\n",
    "- Standardizing features using StandardScaler might have positively affected the performance of some models, like SVM.\n",
    "\n",
    "**In summary, Random Forest, with its strong performance, is a good choice for this particular classification task.**\n"
   ]
  }
 ],
 "metadata": {
  "kernelspec": {
   "display_name": "Python 3",
   "language": "python",
   "name": "python3"
  },
  "language_info": {
   "codemirror_mode": {
    "name": "ipython",
    "version": 3
   },
   "file_extension": ".py",
   "mimetype": "text/x-python",
   "name": "python",
   "nbconvert_exporter": "python",
   "pygments_lexer": "ipython3",
   "version": "3.11.0"
  }
 },
 "nbformat": 4,
 "nbformat_minor": 2
}
